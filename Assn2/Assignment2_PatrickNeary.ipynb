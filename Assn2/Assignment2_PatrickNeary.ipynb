{
 "metadata": {
  "kernelspec": {
   "display_name": "Python 3",
   "language": "python",
   "name": "python3"
  },
  "language_info": {
   "codemirror_mode": {
    "name": "ipython",
    "version": 3
   },
   "file_extension": ".py",
   "mimetype": "text/x-python",
   "name": "python",
   "nbconvert_exporter": "python",
   "pygments_lexer": "ipython3",
   "version": "3.5.2"
  },
  "name": "",
  "signature": "sha256:1ac48a503e318179f74216c39ecc97fcd89d4cfeaa7d729acd485030b110968f"
 },
 "nbformat": 3,
 "nbformat_minor": 0,
 "worksheets": [
  {
   "cells": [
    {
     "cell_type": "markdown",
     "metadata": {},
     "source": [
      "## Finance 5350 - Fall 2016\n",
      "## Homework 2\n",
      "\n",
      "**DUE: Some Future Date (TBA)**\n",
      "\n",
      "\n",
      "This homework is all about putting to use your knowledge of `Python` from the different building blocks that you have seen so far.\n",
      "\n",
      "We will be talking about these problems and I will give lots of hints in class!\n",
      "\n"
     ]
    },
    {
     "cell_type": "markdown",
     "metadata": {},
     "source": [
      "### Problem 1\n",
      "\n",
      "This problem is known as the *chicken nuggets* problem. It goes like this: you walk into Chick Fil-A with an unlimited amount of money (and appetite!). You can purchase nuggets in containers of 6, 9, and 20.\n",
      "\n",
      "Write a program to tell you the ***highest*** number of nuggets that you ***cannot*** purchase! Re-read that just in case it went past you the first time! The highest number that you cannot get. For example, you can get 15 nuggets by purchasing and box of 6 and a box of 9 nuggets. You can get 18 by purchasing 2 boxes of 9 nuggets. But with no combination of 6, 9, and 20 can you purchase 17 nuggets. What is the highest number that you cannot get?!\n",
      "\n",
      "This simple game will give you experience assembling different bits of `Python` programming to find the solution. It will also employ a very simple numerical method called *brute force* search. \n",
      "\n",
      "Please write your solution in the code cell below:"
     ]
    },
    {
     "cell_type": "code",
     "collapsed": false,
     "input": [
      "\n",
      "def GetCombinationValue(numSixes, numNines, numTwenties, target):\n",
      "    # Return 1 for product greater than target\n",
      "    # Return -1 for product less than target\n",
      "    # Return 0 for product equal to target\n",
      "    val = numSixes*6 + numNines*9 + numTwenties*20\n",
      "    if val is target:\n",
      "        return 0\n",
      "    elif val < target:\n",
      "        return -1\n",
      "    else:\n",
      "        return 1\n",
      "\n",
      "def CanGetNumber(targetValue):\n",
      "\n",
      "    targetFound = -1\n",
      "    numSixes = 0\n",
      "    numNines = 0\n",
      "    numTwenties = 0\n",
      "\n",
      "    # Do a quick check with modulus operator.. \n",
      "    if targetValue % 6 is 0:\n",
      "        return True\n",
      "    if targetValue % 9 is 0:\n",
      "        return True\n",
      "    if targetValue % 20 is 0:\n",
      "        return True\n",
      "\n",
      "    while targetFound is not 0:\n",
      "\n",
      "        while targetFound is not 0:\n",
      "\n",
      "            while targetFound is not 0:\n",
      "                targetFound = GetCombinationValue(numSixes, numNines, numTwenties, targetValue)\n",
      "\n",
      "                if targetFound is 0:\n",
      "                    return True\n",
      "                elif targetFound is -1:\n",
      "                    numTwenties += 1\n",
      "                else:\n",
      "                    break\n",
      "\n",
      "            numTwenties = 0\n",
      "            targetFound = GetCombinationValue(numSixes, numNines, numTwenties, targetValue)\n",
      "\n",
      "            if targetFound is 0:\n",
      "                return True\n",
      "            elif targetFound is -1:\n",
      "                numNines += 1\n",
      "            else:\n",
      "                break\n",
      "\n",
      "        numNines = 0\n",
      "        numTwenties = 0\n",
      "        targetFound = GetCombinationValue(numSixes, numNines, numTwenties, targetValue)\n",
      "\n",
      "        if targetFound is 0:\n",
      "            return True\n",
      "        elif targetFound is -1:\n",
      "            numSixes += 1\n",
      "        else:\n",
      "            break\n",
      "\n",
      "    return False\n",
      "\n",
      "\n",
      "def main():\n",
      "    # your code goes here!\n",
      "    print \"STarting brute force search\"\n",
      "    chickenNuggets = 1\n",
      "\n",
      "    while chickenNuggets < 100:\n",
      "        canGetNuggets = CanGetNumber(chickenNuggets)\n",
      "        if canGetNuggets is False:\n",
      "            print(\"Can't get number: %d\" % chickenNuggets)\n",
      "        chickenNuggets += 1\n",
      "\n",
      "    return\n",
      "\n",
      "if __name__ == \"__main__\":\n",
      "    main()\n"
     ],
     "language": "python",
     "metadata": {},
     "outputs": [
      {
       "output_type": "stream",
       "stream": "stdout",
       "text": [
        "STarting brute force search\n",
        "Can't get number: 1\n",
        "Can't get number: 2\n",
        "Can't get number: 3\n",
        "Can't get number: 4\n",
        "Can't get number: 5\n",
        "Can't get number: 7\n",
        "Can't get number: 8\n",
        "Can't get number: 10\n",
        "Can't get number: 11\n",
        "Can't get number: 13\n",
        "Can't get number: 14\n",
        "Can't get number: 16\n",
        "Can't get number: 17\n",
        "Can't get number: 19\n",
        "Can't get number: 22\n",
        "Can't get number: 23\n",
        "Can't get number: 25\n",
        "Can't get number: 28\n",
        "Can't get number: 31\n",
        "Can't get number: 34\n",
        "Can't get number: 37\n",
        "Can't get number: 43\n"
       ]
      }
     ],
     "prompt_number": 2
    },
    {
     "cell_type": "markdown",
     "metadata": {},
     "source": [
      "### Problem 2\n",
      "\n",
      "In the book **[Python Programming for the Absolute Beginner, 3rd Edition](http://goo.gl/7PGr9r)** the author teaches `Python` through some simple game programming. One of the first games that he shows how to write is the so-called ***Guess My Number*** game, which is the children's game of guessing some one's secret number (a number between 1 and 100). \n",
      "\n",
      "An implementation of the game in `Python` might look something like this:"
     ]
    },
    {
     "cell_type": "code",
     "collapsed": false,
     "input": [
      "import random\n",
      "\n",
      "def print_header():\n",
      "    print(\"\\tWelcome to 'Guess My Number'!\")\n",
      "    print(\"\\tI'm thinking of a number between 1 and 100.\")\n",
      "    print(\"\\tTry to guess it in as few attempts as possible.\\n\")\n",
      "\n",
      "\n",
      "def print_footer(the_number, tries):\n",
      "    print(\"You guessed it! The number was\", the_number)\n",
      "    print(\"And it only took you\", tries, \"tries!\\n\")\n",
      "    print(\"\\n\\nPress the enter key to exit.\")    \n",
      "    \n",
      "def main():\n",
      "    # print the greeting bannera\n",
      "    print_header()\n",
      "    \n",
      "    # set the initial values\n",
      "    the_number = random.randint(1, 100)\n",
      "    guess = int(input(\"Take a guess: \"))\n",
      "    tries = 1\n",
      "    \n",
      "    # the game loop\n",
      "    while guess != the_number:\n",
      "        if guess > the_number:\n",
      "            print(\"Lower ...\")\n",
      "        else:\n",
      "            print(\"Higher...\")\n",
      "            \n",
      "        guess = int(input(\"Take a guess: \"))\n",
      "        tries += 1\n",
      "        \n",
      "    print_footer(the_number, tries)\n",
      "    \n",
      "    \n",
      "if __name__ == \"__main__\":\n",
      "    main()"
     ],
     "language": "python",
     "metadata": {},
     "outputs": [
      {
       "output_type": "stream",
       "stream": "stdout",
       "text": [
        "\tWelcome to 'Guess My Number'!\n",
        "\tI'm thinking of a number between 1 and 100.\n",
        "\tTry to guess it in as few attempts as possible.\n",
        "\n",
        "Take a guess: 50\n",
        "Lower ...\n",
        "Take a guess: 25\n",
        "Lower ...\n",
        "Take a guess: 12\n",
        "Higher...\n",
        "Take a guess: 18\n",
        "Lower ...\n",
        "Take a guess: 15\n",
        "Lower ...\n",
        "Take a guess: 13\n",
        "You guessed it! The number was 13\n",
        "And it only took you 6 tries!\n",
        "\n",
        "\n",
        "\n",
        "Press the enter key to exit.\n"
       ]
      }
     ],
     "prompt_number": 16
    },
    {
     "cell_type": "markdown",
     "metadata": {},
     "source": [
      "Make sure you understand each bit of the above program! Study it, play with it, pick it apart, re-write on  your own computer in Spyder. **Remember: Programming is a full contact sport! You have to do it to learn it!!!**"
     ]
    },
    {
     "cell_type": "markdown",
     "metadata": {},
     "source": [
      "Your task in this problem is to now write a version of the *Guess My Number* game where you and the computer switch roles! That is right: you think of a number and the computer must guess it in as few attempts as possible. You will need to encode your guessing logic to the program solution.\n",
      "\n",
      "This might seem like silly game play, but in order to solve the problem you must use an algorithm called **binary search** or the **bisection method** to solve the problem correctly. This is our first attempt at programming a simple algorithm. We will see this algorithm later in the context of the ***Black-Scholes-Merton Option Pricing Model*** to calculate the implied volatility of the model. This is something that options traders do thousands and thousands of times a day!\n",
      "\n",
      "Please use the code cell below to write your solution:"
     ]
    },
    {
     "cell_type": "code",
     "collapsed": false,
     "input": [
      "\n",
      "def print_header():\n",
      "    print(\"\\tWelcome to 'Guess Your Number'!\")\n",
      "    print(\"\\tThink of a number between 1 and 100.\")\n",
      "    print(\"\\tI'll Try to guess it in as few attempts as possible.\\n\")\n",
      "\n",
      "    return\n",
      "\n",
      "def binary_search(max, min):\n",
      "    return min + (max - min)/2\n",
      "\n",
      "def main():\n",
      "    # print the greeting banner\n",
      "    print_header()\n",
      "\n",
      "    secretNumber = int(input(\"Enter your secret number: \"))\n",
      "\n",
      "    # set the initial values\n",
      "    tries = 1\n",
      "\n",
      "    # the game loop\n",
      "    max = 100\n",
      "    min = 1\n",
      "    guess = 0\n",
      "    while guess != secretNumber:\n",
      "        guess = binary_search(max, min)\n",
      "        if guess is secretNumber:\n",
      "            print(\"The secret number you entered was: %d!\" % guess)\n",
      "            print(\"It took me %d tries to find your number.\" % tries)\n",
      "            break\n",
      "        if guess > secretNumber:\n",
      "            print(\"Guessed %d which is too high\" % guess)\n",
      "            max = guess\n",
      "        else:\n",
      "            print(\"Guessed %d which is too low\" % guess)\n",
      "            min = guess\n",
      "\n",
      "        tries += 1\n",
      "        if tries > 15:\n",
      "            break\n",
      "\n",
      "    return\n",
      "\n",
      "\n",
      "if __name__ == \"__main__\":\n",
      "    main()\n"
     ],
     "language": "python",
     "metadata": {},
     "outputs": [
      {
       "output_type": "stream",
       "stream": "stdout",
       "text": [
        "\tWelcome to 'Guess Your Number'!\n",
        "\tThink of a number between 1 and 100.\n",
        "\tI'll Try to guess it in as few attempts as possible.\n",
        "\n"
       ]
      },
      {
       "name": "stdout",
       "output_type": "stream",
       "stream": "stdout",
       "text": [
        "Enter your secret number: 22\n"
       ]
      },
      {
       "output_type": "stream",
       "stream": "stdout",
       "text": [
        "Guessed 50 which is too high\n",
        "Guessed 25 which is too high\n",
        "Guessed 13 which is too low\n",
        "Guessed 19 which is too low\n",
        "The secret number you entered was: 22!\n",
        "It took me 5 tries to find your number.\n"
       ]
      }
     ],
     "prompt_number": 4
    },
    {
     "cell_type": "code",
     "collapsed": false,
     "input": [],
     "language": "python",
     "metadata": {},
     "outputs": [],
     "prompt_number": null
    }
   ],
   "metadata": {}
  }
 ]
}